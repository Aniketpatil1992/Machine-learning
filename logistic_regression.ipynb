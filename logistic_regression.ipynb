{
  "nbformat": 4,
  "nbformat_minor": 0,
  "metadata": {
    "colab": {
      "name": "logistic regression.ipynb",
      "provenance": [],
      "authorship_tag": "ABX9TyNUPO+oi7xb6pf7sKfGpMP5",
      "include_colab_link": true
    },
    "kernelspec": {
      "name": "python3",
      "display_name": "Python 3"
    },
    "language_info": {
      "name": "python"
    }
  },
  "cells": [
    {
      "cell_type": "markdown",
      "metadata": {
        "id": "view-in-github",
        "colab_type": "text"
      },
      "source": [
        "<a href=\"https://colab.research.google.com/github/Aniketpatil1992/Machine-learning/blob/main/logistic_regression.ipynb\" target=\"_parent\"><img src=\"https://colab.research.google.com/assets/colab-badge.svg\" alt=\"Open In Colab\"/></a>"
      ]
    },
    {
      "cell_type": "markdown",
      "source": [
        "#KNN model"
      ],
      "metadata": {
        "id": "-E1zsYL5cWXX"
      }
    },
    {
      "cell_type": "code",
      "execution_count": 1,
      "metadata": {
        "id": "layPNuODcLeL"
      },
      "outputs": [],
      "source": [
        "#importing the libraries\n",
        "import pandas as pd\n",
        "import numpy as np\n",
        "import matplotlib.pyplot as plt"
      ]
    },
    {
      "cell_type": "markdown",
      "source": [
        "importing the dataset"
      ],
      "metadata": {
        "id": "wl2rdF4fcfS1"
      }
    },
    {
      "cell_type": "code",
      "source": [
        "data=pd.read_csv(\"/content/logistic regression sales.csv\")\n",
        "data.head()"
      ],
      "metadata": {
        "colab": {
          "base_uri": "https://localhost:8080/",
          "height": 206
        },
        "id": "Vx2GrIuwcZCa",
        "outputId": "3ff2b034-ddf6-48c5-b01e-2050878d0a06"
      },
      "execution_count": 2,
      "outputs": [
        {
          "output_type": "execute_result",
          "data": {
            "text/html": [
              "\n",
              "  <div id=\"df-2d04a018-95b6-488b-8d25-4c4119e00b3c\">\n",
              "    <div class=\"colab-df-container\">\n",
              "      <div>\n",
              "<style scoped>\n",
              "    .dataframe tbody tr th:only-of-type {\n",
              "        vertical-align: middle;\n",
              "    }\n",
              "\n",
              "    .dataframe tbody tr th {\n",
              "        vertical-align: top;\n",
              "    }\n",
              "\n",
              "    .dataframe thead th {\n",
              "        text-align: right;\n",
              "    }\n",
              "</style>\n",
              "<table border=\"1\" class=\"dataframe\">\n",
              "  <thead>\n",
              "    <tr style=\"text-align: right;\">\n",
              "      <th></th>\n",
              "      <th>Age</th>\n",
              "      <th>EstimatedSalary</th>\n",
              "      <th>Purchased</th>\n",
              "    </tr>\n",
              "  </thead>\n",
              "  <tbody>\n",
              "    <tr>\n",
              "      <th>0</th>\n",
              "      <td>19</td>\n",
              "      <td>19000</td>\n",
              "      <td>0</td>\n",
              "    </tr>\n",
              "    <tr>\n",
              "      <th>1</th>\n",
              "      <td>35</td>\n",
              "      <td>20000</td>\n",
              "      <td>0</td>\n",
              "    </tr>\n",
              "    <tr>\n",
              "      <th>2</th>\n",
              "      <td>26</td>\n",
              "      <td>43000</td>\n",
              "      <td>0</td>\n",
              "    </tr>\n",
              "    <tr>\n",
              "      <th>3</th>\n",
              "      <td>27</td>\n",
              "      <td>57000</td>\n",
              "      <td>0</td>\n",
              "    </tr>\n",
              "    <tr>\n",
              "      <th>4</th>\n",
              "      <td>19</td>\n",
              "      <td>76000</td>\n",
              "      <td>0</td>\n",
              "    </tr>\n",
              "  </tbody>\n",
              "</table>\n",
              "</div>\n",
              "      <button class=\"colab-df-convert\" onclick=\"convertToInteractive('df-2d04a018-95b6-488b-8d25-4c4119e00b3c')\"\n",
              "              title=\"Convert this dataframe to an interactive table.\"\n",
              "              style=\"display:none;\">\n",
              "        \n",
              "  <svg xmlns=\"http://www.w3.org/2000/svg\" height=\"24px\"viewBox=\"0 0 24 24\"\n",
              "       width=\"24px\">\n",
              "    <path d=\"M0 0h24v24H0V0z\" fill=\"none\"/>\n",
              "    <path d=\"M18.56 5.44l.94 2.06.94-2.06 2.06-.94-2.06-.94-.94-2.06-.94 2.06-2.06.94zm-11 1L8.5 8.5l.94-2.06 2.06-.94-2.06-.94L8.5 2.5l-.94 2.06-2.06.94zm10 10l.94 2.06.94-2.06 2.06-.94-2.06-.94-.94-2.06-.94 2.06-2.06.94z\"/><path d=\"M17.41 7.96l-1.37-1.37c-.4-.4-.92-.59-1.43-.59-.52 0-1.04.2-1.43.59L10.3 9.45l-7.72 7.72c-.78.78-.78 2.05 0 2.83L4 21.41c.39.39.9.59 1.41.59.51 0 1.02-.2 1.41-.59l7.78-7.78 2.81-2.81c.8-.78.8-2.07 0-2.86zM5.41 20L4 18.59l7.72-7.72 1.47 1.35L5.41 20z\"/>\n",
              "  </svg>\n",
              "      </button>\n",
              "      \n",
              "  <style>\n",
              "    .colab-df-container {\n",
              "      display:flex;\n",
              "      flex-wrap:wrap;\n",
              "      gap: 12px;\n",
              "    }\n",
              "\n",
              "    .colab-df-convert {\n",
              "      background-color: #E8F0FE;\n",
              "      border: none;\n",
              "      border-radius: 50%;\n",
              "      cursor: pointer;\n",
              "      display: none;\n",
              "      fill: #1967D2;\n",
              "      height: 32px;\n",
              "      padding: 0 0 0 0;\n",
              "      width: 32px;\n",
              "    }\n",
              "\n",
              "    .colab-df-convert:hover {\n",
              "      background-color: #E2EBFA;\n",
              "      box-shadow: 0px 1px 2px rgba(60, 64, 67, 0.3), 0px 1px 3px 1px rgba(60, 64, 67, 0.15);\n",
              "      fill: #174EA6;\n",
              "    }\n",
              "\n",
              "    [theme=dark] .colab-df-convert {\n",
              "      background-color: #3B4455;\n",
              "      fill: #D2E3FC;\n",
              "    }\n",
              "\n",
              "    [theme=dark] .colab-df-convert:hover {\n",
              "      background-color: #434B5C;\n",
              "      box-shadow: 0px 1px 3px 1px rgba(0, 0, 0, 0.15);\n",
              "      filter: drop-shadow(0px 1px 2px rgba(0, 0, 0, 0.3));\n",
              "      fill: #FFFFFF;\n",
              "    }\n",
              "  </style>\n",
              "\n",
              "      <script>\n",
              "        const buttonEl =\n",
              "          document.querySelector('#df-2d04a018-95b6-488b-8d25-4c4119e00b3c button.colab-df-convert');\n",
              "        buttonEl.style.display =\n",
              "          google.colab.kernel.accessAllowed ? 'block' : 'none';\n",
              "\n",
              "        async function convertToInteractive(key) {\n",
              "          const element = document.querySelector('#df-2d04a018-95b6-488b-8d25-4c4119e00b3c');\n",
              "          const dataTable =\n",
              "            await google.colab.kernel.invokeFunction('convertToInteractive',\n",
              "                                                     [key], {});\n",
              "          if (!dataTable) return;\n",
              "\n",
              "          const docLinkHtml = 'Like what you see? Visit the ' +\n",
              "            '<a target=\"_blank\" href=https://colab.research.google.com/notebooks/data_table.ipynb>data table notebook</a>'\n",
              "            + ' to learn more about interactive tables.';\n",
              "          element.innerHTML = '';\n",
              "          dataTable['output_type'] = 'display_data';\n",
              "          await google.colab.output.renderOutput(dataTable, element);\n",
              "          const docLink = document.createElement('div');\n",
              "          docLink.innerHTML = docLinkHtml;\n",
              "          element.appendChild(docLink);\n",
              "        }\n",
              "      </script>\n",
              "    </div>\n",
              "  </div>\n",
              "  "
            ],
            "text/plain": [
              "   Age  EstimatedSalary  Purchased\n",
              "0   19            19000          0\n",
              "1   35            20000          0\n",
              "2   26            43000          0\n",
              "3   27            57000          0\n",
              "4   19            76000          0"
            ]
          },
          "metadata": {},
          "execution_count": 2
        }
      ]
    },
    {
      "cell_type": "code",
      "source": [
        "#initiating the variable\n",
        "x=data.drop(['Purchased'],axis=1)\n",
        "y=data['Purchased'].values.reshape(-1,1)"
      ],
      "metadata": {
        "id": "r9kDHzrMlqJq"
      },
      "execution_count": 3,
      "outputs": []
    },
    {
      "cell_type": "code",
      "source": [
        "#splitting the dataset into training and testing dataset\n",
        "from sklearn.model_selection import train_test_split\n",
        "x_train,x_test,y_train,y_test=train_test_split(x,y,test_size=0.2,random_state=42)"
      ],
      "metadata": {
        "id": "9iF1Q71DchX_"
      },
      "execution_count": 4,
      "outputs": []
    },
    {
      "cell_type": "code",
      "source": [
        "#feature scaling\n",
        "from sklearn.preprocessing import StandardScaler\n",
        "sc = StandardScaler()\n",
        "X_train = sc.fit_transform(x_train)\n",
        "X_test = sc.transform(x_test)\n",
        "X_test # all values converted because age and estimated salery values having big difference."
      ],
      "metadata": {
        "colab": {
          "base_uri": "https://localhost:8080/"
        },
        "id": "0_ki2OW_mFbT",
        "outputId": "601c6c92-0d67-49d6-8740-90111841a7b2"
      },
      "execution_count": 6,
      "outputs": [
        {
          "output_type": "execute_result",
          "data": {
            "text/plain": [
              "array([[ 0.79753468, -1.40447546],\n",
              "       [ 2.07309956,  0.51542886],\n",
              "       [-0.96863208, -0.76450736],\n",
              "       [ 0.99377543,  0.74814454],\n",
              "       [-0.87051171, -1.22993871],\n",
              "       [-0.77239133, -0.24089709],\n",
              "       [ 0.89565505,  1.06812859],\n",
              "       [-0.87051171,  0.36998156],\n",
              "       [ 0.20881242,  0.13726589],\n",
              "       [ 0.40505317, -0.15362871],\n",
              "       [-0.28178945, -0.15362871],\n",
              "       [ 1.4843773 , -1.05540195],\n",
              "       [-1.45923396, -0.64814952],\n",
              "       [-1.75359508, -1.37538601],\n",
              "       [-0.77239133,  0.4863394 ],\n",
              "       [-0.28178945,  1.09721805],\n",
              "       [ 1.38625693, -0.93904411],\n",
              "       [ 0.79753468,  0.10817643],\n",
              "       [ 0.11069205, -0.82268628],\n",
              "       [ 1.77873843, -0.29907601],\n",
              "       [-1.55735433, -1.25902817],\n",
              "       [-0.87051171,  0.28271318],\n",
              "       [ 0.89565505, -1.37538601],\n",
              "       [ 2.07309956,  0.16635535],\n",
              "       [-1.85171546, -1.49174384],\n",
              "       [ 1.28813655, -1.37538601],\n",
              "       [ 0.40505317,  0.28271318],\n",
              "       [-0.0855487 , -0.50270222],\n",
              "       [ 1.68061805,  1.59173886],\n",
              "       [-1.85171546, -1.43356492],\n",
              "       [ 0.79753468, -0.85177573],\n",
              "       [-1.85171546, -0.00818141],\n",
              "       [-0.18366908,  2.14443859],\n",
              "       [-0.96863208,  0.25362372],\n",
              "       [ 0.20881242,  1.06812859],\n",
              "       [-0.28178945,  0.13726589],\n",
              "       [-0.0855487 , -0.4445233 ],\n",
              "       [ 0.01257167, -0.15362871],\n",
              "       [-1.16487283, -1.17175979],\n",
              "       [-1.94983583, -0.06636033],\n",
              "       [ 0.99377543, -1.08449141],\n",
              "       [-1.36111358, -0.4445233 ],\n",
              "       [-1.94983583, -0.53179168],\n",
              "       [ 0.89565505, -1.46265438],\n",
              "       [-1.75359508, -0.61906006],\n",
              "       [ 0.60129393,  1.99899129],\n",
              "       [-0.87051171, -0.26998655],\n",
              "       [-0.67427095,  0.02090805],\n",
              "       [ 0.99377543, -0.85177573],\n",
              "       [-0.37990983, -0.79359682],\n",
              "       [-1.26299321,  0.25362372],\n",
              "       [ 1.4843773 ,  0.3408921 ],\n",
              "       [ 0.01257167, -0.4445233 ],\n",
              "       [-1.26299321,  0.28271318],\n",
              "       [-0.0855487 ,  0.28271318],\n",
              "       [-1.06675246, -1.14267033],\n",
              "       [ 2.17121993,  0.92268129],\n",
              "       [-1.16487283,  1.38811264],\n",
              "       [-0.67427095,  0.10817643],\n",
              "       [-0.67427095,  0.16635535],\n",
              "       [ 0.3069328 , -0.56088114],\n",
              "       [-0.28178945, -0.38634438],\n",
              "       [ 1.38625693,  0.57360778],\n",
              "       [-0.96863208,  0.4863394 ],\n",
              "       [-0.96863208, -0.32816546],\n",
              "       [-1.06675246,  1.94081237],\n",
              "       [ 0.40505317,  0.57360778],\n",
              "       [ 0.89565505,  2.14443859],\n",
              "       [ 0.11069205, -0.32816546],\n",
              "       [-0.4780302 ,  1.24266535],\n",
              "       [ 1.38625693,  1.96990183],\n",
              "       [-1.85171546,  0.42816048],\n",
              "       [-1.06675246, -0.35725492],\n",
              "       [-1.45923396, -1.46265438],\n",
              "       [ 0.89565505, -1.05540195],\n",
              "       [-0.28178945, -0.5899706 ],\n",
              "       [ 1.77873843,  1.82445454],\n",
              "       [ 1.58249768, -1.28811763],\n",
              "       [-0.28178945, -0.67723898],\n",
              "       [-0.0855487 ,  0.22453427]])"
            ]
          },
          "metadata": {},
          "execution_count": 6
        }
      ]
    },
    {
      "cell_type": "code",
      "source": [
        "#training our model using KNN\n",
        "from sklearn.neighbors import KNeighborsClassifier\n",
        "classifier=KNeighborsClassifier(n_neighbors=5)\n",
        "classifier.fit(x_train,y_train)"
      ],
      "metadata": {
        "colab": {
          "base_uri": "https://localhost:8080/"
        },
        "id": "N7Y2PrBxmsy_",
        "outputId": "2f9ab451-b94f-438a-bb92-2947b7b5e7fc"
      },
      "execution_count": 7,
      "outputs": [
        {
          "output_type": "stream",
          "name": "stderr",
          "text": [
            "/usr/local/lib/python3.7/dist-packages/sklearn/neighbors/_classification.py:198: DataConversionWarning: A column-vector y was passed when a 1d array was expected. Please change the shape of y to (n_samples,), for example using ravel().\n",
            "  return self._fit(X, y)\n"
          ]
        },
        {
          "output_type": "execute_result",
          "data": {
            "text/plain": [
              "KNeighborsClassifier()"
            ]
          },
          "metadata": {},
          "execution_count": 7
        }
      ]
    },
    {
      "cell_type": "code",
      "source": [
        "#testing our model\n",
        "y_pred=classifier.predict(x_test)"
      ],
      "metadata": {
        "id": "Bm52BSiem-lG"
      },
      "execution_count": 8,
      "outputs": []
    },
    {
      "cell_type": "code",
      "source": [
        "#making the confusion matrix\n",
        "from sklearn.metrics import confusion_matrix,accuracy_score\n",
        "cm=confusion_matrix(y_test,y_pred)\n",
        "print(cm)\n",
        "accuracy_score(y_test,y_pred)"
      ],
      "metadata": {
        "colab": {
          "base_uri": "https://localhost:8080/"
        },
        "id": "AdYKiijmnFt-",
        "outputId": "937ad8cd-974d-4c3f-8527-6b1246366a67"
      },
      "execution_count": 9,
      "outputs": [
        {
          "output_type": "stream",
          "name": "stdout",
          "text": [
            "[[46  6]\n",
            " [ 8 20]]\n"
          ]
        },
        {
          "output_type": "execute_result",
          "data": {
            "text/plain": [
              "0.825"
            ]
          },
          "metadata": {},
          "execution_count": 9
        }
      ]
    },
    {
      "cell_type": "code",
      "source": [
        "#Prediction for new values\n",
        "output= classifier.predict([[30, 87000]])\n",
        "output"
      ],
      "metadata": {
        "colab": {
          "base_uri": "https://localhost:8080/"
        },
        "id": "wUQ7QnoAnPHM",
        "outputId": "d592e9f0-600a-4b31-fc89-8faf2b212c96"
      },
      "execution_count": 10,
      "outputs": [
        {
          "output_type": "stream",
          "name": "stderr",
          "text": [
            "/usr/local/lib/python3.7/dist-packages/sklearn/base.py:451: UserWarning: X does not have valid feature names, but KNeighborsClassifier was fitted with feature names\n",
            "  \"X does not have valid feature names, but\"\n"
          ]
        },
        {
          "output_type": "execute_result",
          "data": {
            "text/plain": [
              "array([0])"
            ]
          },
          "metadata": {},
          "execution_count": 10
        }
      ]
    }
  ]
}